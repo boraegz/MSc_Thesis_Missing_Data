{
 "cells": [
  {
   "cell_type": "markdown",
   "metadata": {},
   "source": [
    "# Missing Data Experiments for MSc Thesis\n",
    "\n",
    "This notebook investigates the impact of missing data on credit scoring models and compares different methods for handling missingness. It is part of the MSc thesis project, focusing on understanding and addressing missing data in training and evaluation contexts.\n",
    "\n",
    "## Objectives\n",
    "1. Simulate synthetic credit scoring data.\n",
    "2. Introduce missing data with different mechanisms: MCAR, MAR, MNAR.\n",
    "3. Experiment with imputation methods and their impact on model performance.\n",
    "4. Train and evaluate a classification model on imputed data.\n",
    "\n",
    "## Structure\n",
    "- **Simulate Data**: Generate synthetic credit scoring data.\n",
    "- **Introduce Missing Data**: Create missing values with varying mechanisms.\n",
    "- **Handle Missing Data**: Apply imputation techniques to handle missingness.\n",
    "- **Train and Evaluate Models**: Measure the performance impact of imputation methods.\n"
   ]
  },
  {
   "cell_type": "markdown",
   "metadata": {},
   "source": [
    "## Libraries Used\n",
    "- **NumPy and Pandas**: For data manipulation and processing.\n",
    "- **Matplotlib and Seaborn**: For data visualization.\n",
    "- **Scikit-learn**: For data splitting, imputation, model training, and evaluation.\n",
    "\n",
    "These libraries provide the foundational tools for handling missing data and analyzing their impact on models.\n"
   ]
  },
  {
   "cell_type": "code",
   "execution_count": 2,
   "metadata": {},
   "outputs": [
    {
     "name": "stderr",
     "output_type": "stream",
     "text": [
      "Matplotlib is building the font cache; this may take a moment.\n"
     ]
    }
   ],
   "source": [
    "# Import necessary libraries\n",
    "import numpy as np\n",
    "import pandas as pd\n",
    "import matplotlib.pyplot as plt\n",
    "import seaborn as sns\n",
    "from sklearn.model_selection import train_test_split\n",
    "from sklearn.impute import SimpleImputer\n",
    "from sklearn.ensemble import RandomForestClassifier\n",
    "from sklearn.metrics import roc_auc_score, accuracy_score, classification_report\n",
    "\n",
    "# Ensure plots are displayed inline\n",
    "%matplotlib inline\n"
   ]
  },
  {
   "cell_type": "markdown",
   "metadata": {},
   "source": [
    "## Simulating Data\n",
    "We simulate a credit scoring dataset with the following features:\n",
    "- **Age**: Age of the applicant.\n",
    "- **Income**: Annual income in monetary units.\n",
    "- **DebtRatio**: Ratio of debt to income.\n",
    "- **RepaymentStatus**: Binary target variable indicating if the applicant repaid the loan (1 = repaid, 0 = defaulted).\n",
    "\n",
    "This dataset will be used to test the impact of missing data and imputation methods on model performance.\n"
   ]
  },
  {
   "cell_type": "code",
   "execution_count": 4,
   "metadata": {},
   "outputs": [
    {
     "data": {
      "text/html": [
       "<div>\n",
       "<style scoped>\n",
       "    .dataframe tbody tr th:only-of-type {\n",
       "        vertical-align: middle;\n",
       "    }\n",
       "\n",
       "    .dataframe tbody tr th {\n",
       "        vertical-align: top;\n",
       "    }\n",
       "\n",
       "    .dataframe thead th {\n",
       "        text-align: right;\n",
       "    }\n",
       "</style>\n",
       "<table border=\"1\" class=\"dataframe\">\n",
       "  <thead>\n",
       "    <tr style=\"text-align: right;\">\n",
       "      <th></th>\n",
       "      <th>Age</th>\n",
       "      <th>Income</th>\n",
       "      <th>DebtRatio</th>\n",
       "      <th>RepaymentStatus</th>\n",
       "    </tr>\n",
       "  </thead>\n",
       "  <tbody>\n",
       "    <tr>\n",
       "      <th>0</th>\n",
       "      <td>56</td>\n",
       "      <td>29930</td>\n",
       "      <td>0.253910</td>\n",
       "      <td>1</td>\n",
       "    </tr>\n",
       "    <tr>\n",
       "      <th>1</th>\n",
       "      <td>69</td>\n",
       "      <td>23285</td>\n",
       "      <td>0.483282</td>\n",
       "      <td>1</td>\n",
       "    </tr>\n",
       "    <tr>\n",
       "      <th>2</th>\n",
       "      <td>46</td>\n",
       "      <td>143637</td>\n",
       "      <td>0.268456</td>\n",
       "      <td>1</td>\n",
       "    </tr>\n",
       "    <tr>\n",
       "      <th>3</th>\n",
       "      <td>32</td>\n",
       "      <td>55863</td>\n",
       "      <td>0.795974</td>\n",
       "      <td>1</td>\n",
       "    </tr>\n",
       "    <tr>\n",
       "      <th>4</th>\n",
       "      <td>60</td>\n",
       "      <td>36704</td>\n",
       "      <td>0.526935</td>\n",
       "      <td>1</td>\n",
       "    </tr>\n",
       "  </tbody>\n",
       "</table>\n",
       "</div>"
      ],
      "text/plain": [
       "   Age  Income  DebtRatio  RepaymentStatus\n",
       "0   56   29930   0.253910                1\n",
       "1   69   23285   0.483282                1\n",
       "2   46  143637   0.268456                1\n",
       "3   32   55863   0.795974                1\n",
       "4   60   36704   0.526935                1"
      ]
     },
     "execution_count": 4,
     "metadata": {},
     "output_type": "execute_result"
    }
   ],
   "source": [
    "# Simulating a synthetic credit scoring dataset\n",
    "def simulate_data(n_samples=10000, seed=42):\n",
    "    \"\"\"\n",
    "    Generates a synthetic credit scoring dataset with features and a binary target.\n",
    "    Parameters:\n",
    "    - n_samples: Number of rows in the dataset.\n",
    "    - seed: Random seed for reproducibility.\n",
    "    \n",
    "    Returns:\n",
    "    - A pandas DataFrame containing simulated features and target labels.\n",
    "    \"\"\"\n",
    "    np.random.seed(seed)\n",
    "    age = np.random.randint(18, 70, n_samples)  # Age of applicants\n",
    "    income = np.random.randint(20000, 150000, n_samples)  # Annual income\n",
    "    debt_ratio = np.random.uniform(0.1, 1.0, n_samples)  # Debt-to-income ratio\n",
    "    repayment_status = (income / (debt_ratio * 10000) > 3).astype(int)  # Repayment status\n",
    "    \n",
    "    data = pd.DataFrame({\n",
    "        'Age': age,\n",
    "        'Income': income,\n",
    "        'DebtRatio': debt_ratio,\n",
    "        'RepaymentStatus': repayment_status\n",
    "    })\n",
    "    return data\n",
    "\n",
    "# Generate and display the first few rows of the dataset\n",
    "data = simulate_data()\n",
    "data.head()\n"
   ]
  },
  {
   "cell_type": "markdown",
   "metadata": {},
   "source": [
    "## Missing Data Mechanisms\n",
    "- **MCAR (Missing Completely at Random)**: Data is missing without any dependency on observed or unobserved data.\n",
    "- **MAR (Missing at Random)**: Missingness depends on observed data (e.g., higher income → less missingness).\n",
    "- **MNAR (Missing Not at Random)**: Missingness depends on the value of the variable itself (e.g., lower age → more missingness).\n",
    "\n",
    "This step introduces missing data based on the chosen mechanism, simulating real-world scenarios.\n"
   ]
  },
  {
   "cell_type": "code",
   "execution_count": 5,
   "metadata": {},
   "outputs": [
    {
     "data": {
      "text/html": [
       "<div>\n",
       "<style scoped>\n",
       "    .dataframe tbody tr th:only-of-type {\n",
       "        vertical-align: middle;\n",
       "    }\n",
       "\n",
       "    .dataframe tbody tr th {\n",
       "        vertical-align: top;\n",
       "    }\n",
       "\n",
       "    .dataframe thead th {\n",
       "        text-align: right;\n",
       "    }\n",
       "</style>\n",
       "<table border=\"1\" class=\"dataframe\">\n",
       "  <thead>\n",
       "    <tr style=\"text-align: right;\">\n",
       "      <th></th>\n",
       "      <th>Age</th>\n",
       "      <th>Income</th>\n",
       "      <th>DebtRatio</th>\n",
       "      <th>RepaymentStatus</th>\n",
       "    </tr>\n",
       "  </thead>\n",
       "  <tbody>\n",
       "    <tr>\n",
       "      <th>0</th>\n",
       "      <td>NaN</td>\n",
       "      <td>29930.0</td>\n",
       "      <td>0.253910</td>\n",
       "      <td>1</td>\n",
       "    </tr>\n",
       "    <tr>\n",
       "      <th>1</th>\n",
       "      <td>69.0</td>\n",
       "      <td>NaN</td>\n",
       "      <td>0.483282</td>\n",
       "      <td>1</td>\n",
       "    </tr>\n",
       "    <tr>\n",
       "      <th>2</th>\n",
       "      <td>46.0</td>\n",
       "      <td>143637.0</td>\n",
       "      <td>NaN</td>\n",
       "      <td>1</td>\n",
       "    </tr>\n",
       "    <tr>\n",
       "      <th>3</th>\n",
       "      <td>NaN</td>\n",
       "      <td>NaN</td>\n",
       "      <td>0.795974</td>\n",
       "      <td>1</td>\n",
       "    </tr>\n",
       "    <tr>\n",
       "      <th>4</th>\n",
       "      <td>60.0</td>\n",
       "      <td>36704.0</td>\n",
       "      <td>0.526935</td>\n",
       "      <td>1</td>\n",
       "    </tr>\n",
       "  </tbody>\n",
       "</table>\n",
       "</div>"
      ],
      "text/plain": [
       "    Age    Income  DebtRatio  RepaymentStatus\n",
       "0   NaN   29930.0   0.253910                1\n",
       "1  69.0       NaN   0.483282                1\n",
       "2  46.0  143637.0        NaN                1\n",
       "3   NaN       NaN   0.795974                1\n",
       "4  60.0   36704.0   0.526935                1"
      ]
     },
     "execution_count": 5,
     "metadata": {},
     "output_type": "execute_result"
    }
   ],
   "source": [
    "# Function to introduce missing data\n",
    "def introduce_missingness(data, missing_rate=0.2, mechanism='MCAR'):\n",
    "    \"\"\"\n",
    "    Introduces missing data into the dataset based on the selected missingness mechanism.\n",
    "    \"\"\"\n",
    "    data_missing = data.copy()\n",
    "    n_samples = len(data)\n",
    "    n_missing = int(n_samples * missing_rate)\n",
    "    \n",
    "    if mechanism == 'MCAR':  # Missing Completely at Random\n",
    "        missing_indices = np.random.choice(data.index, n_missing, replace=False)\n",
    "        data_missing.loc[missing_indices] = np.nan\n",
    "    \n",
    "    elif mechanism == 'MAR':  # Missing at Random\n",
    "        # Example: Missingness probability is related to 'Income' column\n",
    "        prob = 1 - (data['Income'] / data['Income'].max())\n",
    "        prob = prob / prob.sum()  # Normalize to sum to 1\n",
    "        missing_indices = np.random.choice(data.index, n_missing, replace=False, p=prob)\n",
    "        data_missing.loc[missing_indices] = np.nan\n",
    "    \n",
    "    elif mechanism == 'MNAR':  # Missing Not at Random\n",
    "        # Example: Missingness probability is related to 'RepaymentStatus' column\n",
    "        prob = 1 - (data['RepaymentStatus'] / data['RepaymentStatus'].max())\n",
    "        prob = prob / prob.sum()  # Normalize to sum to 1\n",
    "        missing_indices = np.random.choice(data.index, n_missing, replace=False, p=prob)\n",
    "        data_missing.loc[missing_indices] = np.nan\n",
    "    \n",
    "    return data_missing\n",
    "\n",
    "\n",
    "# Apply MCAR mechanism to the dataset\n",
    "data_mcar = introduce_missingness(data, missing_rate=0.2, mechanism='MCAR')\n",
    "data_mcar.head()\n"
   ]
  },
  {
   "cell_type": "markdown",
   "metadata": {},
   "source": [
    "## Visualizing Missing Data\n",
    "The heatmap below shows the presence of missing data in the dataset. Yellow indicates missing values, while purple represents observed values. This helps in understanding the extent and distribution of missingness.\n"
   ]
  },
  {
   "cell_type": "code",
   "execution_count": 6,
   "metadata": {},
   "outputs": [
    {
     "data": {
      "image/png": "[encoded data removed]",
      "text/plain": [
       "<Figure size 640x480 with 1 Axes>"
      ]
     },
     "metadata": {},
     "output_type": "display_data"
    }
   ],
   "source": [
    "# Function to visualize missing data\n",
    "def plot_missingness(data):\n",
    "    \"\"\"\n",
    "    Plots a heatmap showing the presence of missing data in the dataset.\n",
    "    \"\"\"\n",
    "    sns.heatmap(data.isnull(), cbar=False, cmap='viridis')\n",
    "    plt.title('Missing Data Heatmap')\n",
    "    plt.show()\n",
    "\n",
    "# Visualize missingness in the dataset\n",
    "plot_missingness(data_mcar)\n"
   ]
  },
  {
   "cell_type": "markdown",
   "metadata": {},
   "source": [
    "## Handling Missing Data\n",
    "### Imputation Strategies\n",
    "- **Mean**: Replaces missing values with the column mean.\n",
    "- **Median**: Replaces missing values with the column median.\n",
    "- **Most Frequent**: Replaces missing values with the most common value in the column.\n",
    "\n",
    "In this step, we apply the mean imputation strategy to handle missing data. The imputed dataset replaces missing values while preserving the original structure.\n"
   ]
  },
  {
   "cell_type": "code",
   "execution_count": 7,
   "metadata": {},
   "outputs": [
    {
     "data": {
      "text/html": [
       "<div>\n",
       "<style scoped>\n",
       "    .dataframe tbody tr th:only-of-type {\n",
       "        vertical-align: middle;\n",
       "    }\n",
       "\n",
       "    .dataframe tbody tr th {\n",
       "        vertical-align: top;\n",
       "    }\n",
       "\n",
       "    .dataframe thead th {\n",
       "        text-align: right;\n",
       "    }\n",
       "</style>\n",
       "<table border=\"1\" class=\"dataframe\">\n",
       "  <thead>\n",
       "    <tr style=\"text-align: right;\">\n",
       "      <th></th>\n",
       "      <th>Age</th>\n",
       "      <th>Income</th>\n",
       "      <th>DebtRatio</th>\n",
       "      <th>RepaymentStatus</th>\n",
       "    </tr>\n",
       "  </thead>\n",
       "  <tbody>\n",
       "    <tr>\n",
       "      <th>0</th>\n",
       "      <td>43.610375</td>\n",
       "      <td>29930.000000</td>\n",
       "      <td>0.253910</td>\n",
       "      <td>1.0</td>\n",
       "    </tr>\n",
       "    <tr>\n",
       "      <th>1</th>\n",
       "      <td>69.000000</td>\n",
       "      <td>84487.092125</td>\n",
       "      <td>0.483282</td>\n",
       "      <td>1.0</td>\n",
       "    </tr>\n",
       "    <tr>\n",
       "      <th>2</th>\n",
       "      <td>46.000000</td>\n",
       "      <td>143637.000000</td>\n",
       "      <td>0.555238</td>\n",
       "      <td>1.0</td>\n",
       "    </tr>\n",
       "    <tr>\n",
       "      <th>3</th>\n",
       "      <td>43.610375</td>\n",
       "      <td>84487.092125</td>\n",
       "      <td>0.795974</td>\n",
       "      <td>1.0</td>\n",
       "    </tr>\n",
       "    <tr>\n",
       "      <th>4</th>\n",
       "      <td>60.000000</td>\n",
       "      <td>36704.000000</td>\n",
       "      <td>0.526935</td>\n",
       "      <td>1.0</td>\n",
       "    </tr>\n",
       "  </tbody>\n",
       "</table>\n",
       "</div>"
      ],
      "text/plain": [
       "         Age         Income  DebtRatio  RepaymentStatus\n",
       "0  43.610375   29930.000000   0.253910              1.0\n",
       "1  69.000000   84487.092125   0.483282              1.0\n",
       "2  46.000000  143637.000000   0.555238              1.0\n",
       "3  43.610375   84487.092125   0.795974              1.0\n",
       "4  60.000000   36704.000000   0.526935              1.0"
      ]
     },
     "execution_count": 7,
     "metadata": {},
     "output_type": "execute_result"
    }
   ],
   "source": [
    "# Function to apply imputation methods\n",
    "def impute_missing_data(data, strategy='mean'):\n",
    "    \"\"\"\n",
    "    Imputes missing data in the dataset using the specified strategy.\n",
    "    Parameters:\n",
    "    - data: DataFrame with missing values.\n",
    "    - strategy: Imputation strategy ('mean', 'median', 'most_frequent').\n",
    "    \n",
    "    Returns:\n",
    "    - A DataFrame with imputed values.\n",
    "    \"\"\"\n",
    "    imputer = SimpleImputer(strategy=strategy)\n",
    "    imputed_data = pd.DataFrame(imputer.fit_transform(data), columns=data.columns)\n",
    "    return imputed_data\n",
    "\n",
    "# Apply mean imputation to the dataset\n",
    "data_imputed = impute_missing_data(data_mcar, strategy='mean')\n",
    "data_imputed.head()\n"
   ]
  },
  {
   "cell_type": "markdown",
   "metadata": {},
   "source": [
    "## Splitting the Data\n",
    "To evaluate the model's performance, the dataset is split into:\n",
    "- **Training Set**: 70% of the data to train the model.\n",
    "- **Test Set**: 30% of the data to evaluate the model's generalization.\n",
    "\n",
    "This ensures that the model's performance is evaluated on unseen data.\n"
   ]
  },
  {
   "cell_type": "code",
   "execution_count": 8,
   "metadata": {},
   "outputs": [],
   "source": [
    "# Split the imputed data into training and test sets\n",
    "def split_data(data):\n",
    "    \"\"\"\n",
    "    Splits the dataset into training and test sets.\n",
    "    \"\"\"\n",
    "    X = data.drop(columns=['RepaymentStatus'])\n",
    "    y = data['RepaymentStatus']\n",
    "    return train_test_split(X, y, test_size=0.3, random_state=42)\n",
    "\n",
    "# Perform the split\n",
    "X_train, X_test, y_train, y_test = split_data(data_imputed)\n"
   ]
  },
  {
   "cell_type": "markdown",
   "metadata": {},
   "source": [
    "## Training a Model\n",
    "We train a **Random Forest Classifier**, a robust ensemble learning method, using the imputed training data. This model combines multiple decision trees to improve prediction accuracy and reduce overfitting.\n",
    "\n",
    "### Feature Importances\n",
    "The trained model also provides feature importance scores, helping to understand which features contribute most to the prediction.\n"
   ]
  },
  {
   "cell_type": "code",
   "execution_count": 9,
   "metadata": {},
   "outputs": [
    {
     "name": "stdout",
     "output_type": "stream",
     "text": [
      "Feature Importances: [0.11469704 0.5135193  0.37178365]\n"
     ]
    }
   ],
   "source": [
    "# Train a Random Forest Classifier\n",
    "def train_model(X_train, y_train):\n",
    "    \"\"\"\n",
    "    Trains a Random Forest model on the given data.\n",
    "    \"\"\"\n",
    "    model = RandomForestClassifier(random_state=42)\n",
    "    model.fit(X_train, y_train)\n",
    "    return model\n",
    "\n",
    "# Train the model and display the feature importances\n",
    "model = train_model(X_train, y_train)\n",
    "print(\"Feature Importances:\", model.feature_importances_)\n"
   ]
  },
  {
   "cell_type": "markdown",
   "metadata": {},
   "source": [
    "## Model Evaluation\n",
    "### Metrics\n",
    "1. **Accuracy**: Percentage of correct predictions.\n",
    "2. **AUC-ROC**: Area under the Receiver Operating Characteristic curve, measuring model discrimination ability.\n",
    "3. **Classification Report**: Detailed performance metrics (precision, recall, F1-score) for each class.\n",
    "\n",
    "These metrics help quantify the impact of missing data and imputation methods on model performance.\n"
   ]
  },
  {
   "cell_type": "code",
   "execution_count": 10,
   "metadata": {},
   "outputs": [
    {
     "name": "stdout",
     "output_type": "stream",
     "text": [
      "Accuracy: 0.9923333333333333\n",
      "AUC-ROC: 0.9267626030685733\n",
      "\n",
      "Classification Report:\n",
      "               precision    recall  f1-score   support\n",
      "\n",
      "         0.0       0.94      0.60      0.73        52\n",
      "         1.0       0.99      1.00      1.00      2948\n",
      "\n",
      "    accuracy                           0.99      3000\n",
      "   macro avg       0.97      0.80      0.86      3000\n",
      "weighted avg       0.99      0.99      0.99      3000\n",
      "\n"
     ]
    },
    {
     "data": {
      "text/plain": [
       "(0.9923333333333333, np.float64(0.9267626030685733))"
      ]
     },
     "execution_count": 10,
     "metadata": {},
     "output_type": "execute_result"
    }
   ],
   "source": [
    "# Evaluate the model on the test set\n",
    "def evaluate_model(model, X_test, y_test):\n",
    "    \"\"\"\n",
    "    Evaluates the model's performance using accuracy and AUC-ROC.\n",
    "    \"\"\"\n",
    "    y_pred = model.predict(X_test)\n",
    "    y_pred_proba = model.predict_proba(X_test)[:, 1]\n",
    "    \n",
    "    accuracy = accuracy_score(y_test, y_pred)\n",
    "    auc = roc_auc_score(y_test, y_pred_proba)\n",
    "    \n",
    "    print(\"Accuracy:\", accuracy)\n",
    "    print(\"AUC-ROC:\", auc)\n",
    "    print(\"\\nClassification Report:\\n\", classification_report(y_test, y_pred))\n",
    "    \n",
    "    return accuracy, auc\n",
    "\n",
    "# Evaluate the trained model\n",
    "evaluate_model(model, X_test, y_test)\n"
   ]
  },
  {
   "cell_type": "markdown",
   "metadata": {},
   "source": [
    "## Experimenting with Missingness and Imputation\n",
    "### Objective\n",
    "To understand the impact of different missing data mechanisms (MCAR, MAR, MNAR) and imputation strategies on model performance.\n",
    "\n",
    "### Results\n",
    "The results are summarized in a table showing accuracy and AUC for each combination of mechanism and strategy. This highlights the best approaches for handling missing data in credit scoring contexts.\n"
   ]
  },
  {
   "cell_type": "code",
   "execution_count": 13,
   "metadata": {},
   "outputs": [
    {
     "name": "stdout",
     "output_type": "stream",
     "text": [
      "Accuracy: 0.9923333333333333\n",
      "AUC-ROC: 0.9267626030685733\n",
      "\n",
      "Classification Report:\n",
      "               precision    recall  f1-score   support\n",
      "\n",
      "         0.0       0.94      0.60      0.73        52\n",
      "         1.0       0.99      1.00      1.00      2948\n",
      "\n",
      "    accuracy                           0.99      3000\n",
      "   macro avg       0.97      0.80      0.86      3000\n",
      "weighted avg       0.99      0.99      0.99      3000\n",
      "\n",
      "Accuracy: 0.9923333333333333\n",
      "AUC-ROC: 0.9336088351946561\n",
      "\n",
      "Classification Report:\n",
      "               precision    recall  f1-score   support\n",
      "\n",
      "         0.0       0.94      0.60      0.73        52\n",
      "         1.0       0.99      1.00      1.00      2948\n",
      "\n",
      "    accuracy                           0.99      3000\n",
      "   macro avg       0.97      0.80      0.86      3000\n",
      "weighted avg       0.99      0.99      0.99      3000\n",
      "\n",
      "Accuracy: 0.992\n",
      "AUC-ROC: 0.9276334672789895\n",
      "\n",
      "Classification Report:\n",
      "               precision    recall  f1-score   support\n",
      "\n",
      "         0.0       0.94      0.58      0.71        52\n",
      "         1.0       0.99      1.00      1.00      2948\n",
      "\n",
      "    accuracy                           0.99      3000\n",
      "   macro avg       0.97      0.79      0.86      3000\n",
      "weighted avg       0.99      0.99      0.99      3000\n",
      "\n"
     ]
    },
    {
     "ename": "ValueError",
     "evalue": "probabilities do not sum to 1",
     "output_type": "error",
     "traceback": [
      "\u001b[0;31m---------------------------------------------------------------------------\u001b[0m",
      "\u001b[0;31mValueError\u001b[0m                                Traceback (most recent call last)",
      "Cell \u001b[0;32mIn[13], line 23\u001b[0m\n\u001b[1;32m     20\u001b[0m     \u001b[38;5;28;01mreturn\u001b[39;00m pd\u001b[38;5;241m.\u001b[39mDataFrame(results)\n\u001b[1;32m     22\u001b[0m \u001b[38;5;66;03m# Run experiments and display results\u001b[39;00m\n\u001b[0;32m---> 23\u001b[0m experiment_results \u001b[38;5;241m=\u001b[39m \u001b[43mexperiment_with_mechanisms\u001b[49m\u001b[43m(\u001b[49m\u001b[43mdata\u001b[49m\u001b[43m)\u001b[49m\n\u001b[1;32m     24\u001b[0m experiment_results\n",
      "Cell \u001b[0;32mIn[13], line 8\u001b[0m, in \u001b[0;36mexperiment_with_mechanisms\u001b[0;34m(data, mechanisms, strategies)\u001b[0m\n\u001b[1;32m      6\u001b[0m results \u001b[38;5;241m=\u001b[39m []\n\u001b[1;32m      7\u001b[0m \u001b[38;5;28;01mfor\u001b[39;00m mechanism \u001b[38;5;129;01min\u001b[39;00m mechanisms:\n\u001b[0;32m----> 8\u001b[0m     data_missing \u001b[38;5;241m=\u001b[39m \u001b[43mintroduce_missingness\u001b[49m\u001b[43m(\u001b[49m\u001b[43mdata\u001b[49m\u001b[43m,\u001b[49m\u001b[43m \u001b[49m\u001b[43mmissing_rate\u001b[49m\u001b[38;5;241;43m=\u001b[39;49m\u001b[38;5;241;43m0.2\u001b[39;49m\u001b[43m,\u001b[49m\u001b[43m \u001b[49m\u001b[43mmechanism\u001b[49m\u001b[38;5;241;43m=\u001b[39;49m\u001b[43mmechanism\u001b[49m\u001b[43m)\u001b[49m\n\u001b[1;32m      9\u001b[0m     \u001b[38;5;28;01mfor\u001b[39;00m strategy \u001b[38;5;129;01min\u001b[39;00m strategies:\n\u001b[1;32m     10\u001b[0m         data_imputed \u001b[38;5;241m=\u001b[39m impute_missing_data(data_missing, strategy\u001b[38;5;241m=\u001b[39mstrategy)\n",
      "Cell \u001b[0;32mIn[5], line 25\u001b[0m, in \u001b[0;36mintroduce_missingness\u001b[0;34m(data, missing_rate, mechanism, seed)\u001b[0m\n\u001b[1;32m     23\u001b[0m     \u001b[38;5;28;01mfor\u001b[39;00m col \u001b[38;5;129;01min\u001b[39;00m data\u001b[38;5;241m.\u001b[39mcolumns[:\u001b[38;5;241m-\u001b[39m\u001b[38;5;241m1\u001b[39m]:\n\u001b[1;32m     24\u001b[0m         prob \u001b[38;5;241m=\u001b[39m \u001b[38;5;241m1\u001b[39m \u001b[38;5;241m-\u001b[39m (data[\u001b[38;5;124m'\u001b[39m\u001b[38;5;124mIncome\u001b[39m\u001b[38;5;124m'\u001b[39m] \u001b[38;5;241m/\u001b[39m data[\u001b[38;5;124m'\u001b[39m\u001b[38;5;124mIncome\u001b[39m\u001b[38;5;124m'\u001b[39m]\u001b[38;5;241m.\u001b[39mmax())\n\u001b[0;32m---> 25\u001b[0m         missing_indices \u001b[38;5;241m=\u001b[39m \u001b[43mnp\u001b[49m\u001b[38;5;241;43m.\u001b[39;49m\u001b[43mrandom\u001b[49m\u001b[38;5;241;43m.\u001b[39;49m\u001b[43mchoice\u001b[49m\u001b[43m(\u001b[49m\u001b[43mdata\u001b[49m\u001b[38;5;241;43m.\u001b[39;49m\u001b[43mindex\u001b[49m\u001b[43m,\u001b[49m\u001b[43m \u001b[49m\u001b[43mn_missing\u001b[49m\u001b[43m,\u001b[49m\u001b[43m \u001b[49m\u001b[43mreplace\u001b[49m\u001b[38;5;241;43m=\u001b[39;49m\u001b[38;5;28;43;01mFalse\u001b[39;49;00m\u001b[43m,\u001b[49m\u001b[43m \u001b[49m\u001b[43mp\u001b[49m\u001b[38;5;241;43m=\u001b[39;49m\u001b[43mprob\u001b[49m\u001b[43m)\u001b[49m\n\u001b[1;32m     26\u001b[0m         data_missing\u001b[38;5;241m.\u001b[39mloc[missing_indices, col] \u001b[38;5;241m=\u001b[39m np\u001b[38;5;241m.\u001b[39mnan\n\u001b[1;32m     27\u001b[0m \u001b[38;5;28;01melif\u001b[39;00m mechanism \u001b[38;5;241m==\u001b[39m \u001b[38;5;124m'\u001b[39m\u001b[38;5;124mMNAR\u001b[39m\u001b[38;5;124m'\u001b[39m:\n",
      "File \u001b[0;32mnumpy/random/mtrand.pyx:998\u001b[0m, in \u001b[0;36mnumpy.random.mtrand.RandomState.choice\u001b[0;34m()\u001b[0m\n",
      "\u001b[0;31mValueError\u001b[0m: probabilities do not sum to 1"
     ]
    }
   ],
   "source": [
    "# Experiment function\n",
    "def experiment_with_mechanisms(data, mechanisms=['MCAR', 'MAR', 'MNAR'], strategies=['mean', 'median', 'most_frequent']):\n",
    "    \"\"\"\n",
    "    Runs experiments for different missingness mechanisms and imputation strategies.\n",
    "    \"\"\"\n",
    "    results = []\n",
    "    for mechanism in mechanisms:\n",
    "        data_missing = introduce_missingness(data, missing_rate=0.2, mechanism=mechanism)\n",
    "        for strategy in strategies:\n",
    "            data_imputed = impute_missing_data(data_missing, strategy=strategy)\n",
    "            X_train, X_test, y_train, y_test = split_data(data_imputed)\n",
    "            model = train_model(X_train, y_train)\n",
    "            accuracy, auc = evaluate_model(model, X_test, y_test)\n",
    "            results.append({\n",
    "                'Mechanism': mechanism,\n",
    "                'Strategy': strategy,\n",
    "                'Accuracy': accuracy,\n",
    "                'AUC': auc\n",
    "            })\n",
    "    return pd.DataFrame(results)\n",
    "\n",
    "# Run experiments and display results\n",
    "experiment_results = experiment_with_mechanisms(data)\n",
    "experiment_results\n"
   ]
  },
  {
   "cell_type": "markdown",
   "metadata": {},
   "source": [
    "## Visualizing Results\n",
    "The bar plots below show:\n",
    "1. **Accuracy**: Performance comparison by mechanism and imputation strategy.\n",
    "2. **AUC-ROC**: Discrimination ability comparison by mechanism and strategy.\n",
    "\n",
    "These visualizations make it easier to interpret the impact of different approaches.\n"
   ]
  },
  {
   "cell_type": "code",
   "execution_count": 12,
   "metadata": {},
   "outputs": [
    {
     "ename": "NameError",
     "evalue": "name 'experiment_results' is not defined",
     "output_type": "error",
     "traceback": [
      "\u001b[0;31m---------------------------------------------------------------------------\u001b[0m",
      "\u001b[0;31mNameError\u001b[0m                                 Traceback (most recent call last)",
      "Cell \u001b[0;32mIn[12], line 17\u001b[0m\n\u001b[1;32m     14\u001b[0m     plt\u001b[38;5;241m.\u001b[39mshow()\n\u001b[1;32m     16\u001b[0m \u001b[38;5;66;03m# Plot the experimental results\u001b[39;00m\n\u001b[0;32m---> 17\u001b[0m plot_results(\u001b[43mexperiment_results\u001b[49m)\n",
      "\u001b[0;31mNameError\u001b[0m: name 'experiment_results' is not defined"
     ]
    }
   ],
   "source": [
    "# Visualizing the results\n",
    "def plot_results(results):\n",
    "    \"\"\"\n",
    "    Plots the experimental results for visualization.\n",
    "    \"\"\"\n",
    "    sns.barplot(x='Mechanism', y='Accuracy', hue='Strategy', data=results)\n",
    "    plt.title('Accuracy by Missingness Mechanism and Imputation Strategy')\n",
    "    plt.ylabel('Accuracy')\n",
    "    plt.show()\n",
    "    \n",
    "    sns.barplot(x='Mechanism', y='AUC', hue='Strategy', data=results)\n",
    "    plt.title('AUC-ROC by Missingness Mechanism and Imputation Strategy')\n",
    "    plt.ylabel('AUC-ROC')\n",
    "    plt.show()\n",
    "\n",
    "# Plot the experimental results\n",
    "plot_results(experiment_results)\n"
   ]
  },
  {
   "cell_type": "markdown",
   "metadata": {},
   "source": [
    "# Conclusion\n",
    "This notebook provided a framework for simulating data, introducing missingness, and testing different imputation methods in the context of credit scoring. The results demonstrate how missing data mechanisms and handling techniques affect model performance.\n",
    "\n",
    "Next Steps:\n",
    "- Use real-world data or further refine synthetic simulations.\n",
    "- Extend the experiments to include advanced imputation methods (e.g., ML-based imputation).\n",
    "- Explore domain-specific insights to tailor missing data strategies effectively.\n"
   ]
  }
 ],
 "metadata": {
  "kernelspec": {
   "display_name": "venv",
   "language": "python",
   "name": "python3"
  },
  "language_info": {
   "codemirror_mode": {
    "name": "ipython",
    "version": 3
   },
   "file_extension": ".py",
   "mimetype": "text/x-python",
   "name": "python",
   "nbconvert_exporter": "python",
   "pygments_lexer": "ipython3",
   "version": "3.12.4"
  }
 },
 "nbformat": 4,
 "nbformat_minor": 2
}
