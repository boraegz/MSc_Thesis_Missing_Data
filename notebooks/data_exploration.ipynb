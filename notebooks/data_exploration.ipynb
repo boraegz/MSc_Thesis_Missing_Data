 {
 "cells": [
  {
   "cell_type": "markdown",
   "metadata": {},
   "source": [
    "# Data Exploration for Credit Scoring Analysis\n",
    "\n",
    "This notebook explores the accepted and rejected loan datasets to understand their structure, missing values, and basic statistics."
   ]
  },
  {
   "cell_type": "markdown",
   "metadata": {},
   "source": [
    "## 1. Setup and Data Loading"
   ]
  },
  {
   "cell_type": "code",
   "execution_count": null,
   "metadata": {},
   "outputs": [],
   "source": [
    "# Import necessary libraries\n",
    "import pandas as pd\n",
    "import numpy as np\n",
    "import matplotlib.pyplot as plt\n",
    "import seaborn as sns\n",
    "\n",
    "# Set display options for better visibility\n",
    "pd.set_option('display.max_columns', None)\n",
    "pd.set_option('display.max_rows', None)\n",
    "pd.set_option('display.width', None)"
   ]
  },
  {
   "cell_type": "code",
   "execution_count": null,
   "metadata": {},
   "outputs": [],
   "source": [
    "# Read both datasets\n",
    "accepted_df = pd.read_csv('../data/raw/accepted_loans.csv')\n",
    "rejected_df = pd.read_csv('../data/raw/rejected_loans.csv')"
   ]
  },
  {
   "cell_type": "markdown",
   "metadata": {},
   "source": [
    "## 2. Accepted Loans Dataset Analysis"
   ]
  },
  {
   "cell_type": "code",
   "execution_count": null,
   "metadata": {},
   "outputs": [],
   "source": [
    "print(\"ACCEPTED LOANS DATASET EXPLORATION\")\n",
    "print(\"=\"*80)\n",
    "print(f\"\\nDataset Shape: {accepted_df.shape}\")\n",
    "\n",
    "print(\"\\nColumn Types:\")\n",
    "print(accepted_df.dtypes)\n",
    "\n",
    "print(\"\\nMissing Values Analysis:\")\n",
    "missing_accepted = pd.DataFrame({\n",
    "    'Column': accepted_df.columns,\n",
    "    'Data Type': accepted_df.dtypes,\n",
    "    'Missing Values': accepted_df.isnull().sum(),\n",
    "    'Missing Percentage': (accepted_df.isnull().sum() / len(accepted_df) * 100).round(2)\n",
    "})\n",
    "print(missing_accepted.sort_values('Missing Percentage', ascending=False))\n",
    "\n",
    "print(\"\\nSample of accepted loans (first 5 rows):\")\n",
    "accepted_df.head()"
   ]
  },
  {
   "cell_type": "markdown",
   "metadata": {},
   "source": [
    "## 3. Rejected Loans Dataset Analysis"
   ]
  },
  {
   "cell_type": "code",
   "execution_count": null,
   "metadata": {},
   "outputs": [],
   "source": [
    "print(\"REJECTED LOANS DATASET EXPLORATION\")\n",
    "print(\"=\"*80)\n",
    "print(f\"\\nDataset Shape: {rejected_df.shape}\")\n",
    "\n",
    "print(\"\\nColumn Types:\")\n",
    "print(rejected_df.dtypes)\n",
    "\n",
    "print(\"\\nMissing Values Analysis:\")\n",
    "missing_rejected = pd.DataFrame({\n",
    "    'Column': rejected_df.columns,\n",
    "    'Data Type': rejected_df.dtypes,\n",
    "    'Missing Values': rejected_df.isnull().sum(),\n",
    "    'Missing Percentage': (rejected_df.isnull().sum() / len(rejected_df) * 100).round(2)\n",
    "})\n",
    "print(missing_rejected.sort_values('Missing Percentage', ascending=False))\n",
    "\n",
    "print(\"\\nSample of rejected loans (first 5 rows):\")\n",
    "rejected_df.head()"
   ]
  },
  {
   "cell_type": "markdown",
   "metadata": {},
   "source": [
    "## 4. Missing Values Visualization"
   ]
  },
  {
   "cell_type": "code",
   "execution_count": null,
   "metadata": {},
   "outputs": [],
   "source": [
    "plt.figure(figsize=(15, 5))\n",
    "\n",
    "plt.subplot(1, 2, 1)\n",
    "sns.heatmap(accepted_df.isnull(), yticklabels=False, cbar=False)\n",
    "plt.title('Missing Values in Accepted Loans')\n",
    "\n",
    "plt.subplot(1, 2, 2)\n",
    "sns.heatmap(rejected_df.isnull(), yticklabels=False, cbar=False)\n",
    "plt.title('Missing Values in Rejected Loans')\n",
    "\n",
    "plt.tight_layout()\n",
    "plt.show()"
   ]
  },
  {
   "cell_type": "markdown",
   "metadata": {},
   "source": [
    "## 5. Dataset Comparison"
   ]
  },
  {
   "cell_type": "code",
   "execution_count": null,
   "metadata": {},
   "outputs": [],
   "source": [
    "# Compare common columns between datasets\n",
    "common_columns = set(accepted_df.columns) & set(rejected_df.columns)\n",
    "unique_to_accepted = set(accepted_df.columns) - set(rejected_df.columns)\n",
    "unique_to_rejected = set(rejected_df.columns) - set(accepted_df.columns)\n",
    "\n",
    "print(\"COLUMN COMPARISON\")\n",
    "print(\"=\"*80)\n",
    "print(f\"\\nCommon columns between datasets: {len(common_columns)}\")\n",
    "print(sorted(common_columns))\n",
    "print(f\"\\nColumns unique to accepted loans: {len(unique_to_accepted)}\")\n",
    "print(sorted(unique_to_accepted))\n",
    "print(f\"\\nColumns unique to rejected loans: {len(unique_to_rejected)}\")\n",
    "print(sorted(unique_to_rejected))"
   ]
  },
  {
   "cell_type": "markdown",
   "metadata": {},
   "source": [
    "## 6. Basic Statistics"
   ]
  },
  {
   "cell_type": "code",
   "execution_count": null,
   "metadata": {},
   "outputs": [],
   "source": [
    "print(\"BASIC STATISTICS\")\n",
    "print(\"=\"*80)\n",
    "print(f\"\\nTotal number of loan applications: {len(accepted_df) + len(rejected_df)}\")\n",
    "print(f\"Number of accepted loans: {len(accepted_df)}\")\n",
    "print(f\"Number of rejected loans: {len(rejected_df)}\")\n",
    "print(f\"Acceptance rate: {(len(accepted_df) / (len(accepted_df) + len(rejected_df)) * 100):.2f}%\")\n",
    "\n",
    "# Visualize acceptance vs rejection ratio\n",
    "plt.figure(figsize=(8, 6))\n",
    "plt.pie([len(accepted_df), len(rejected_df)], \n",
    "        labels=['Accepted', 'Rejected'], \n",
    "        autopct='%1.1f%%',\n",
    "        colors=['lightgreen', 'lightcoral'])\n",
    "plt.title('Loan Application Distribution')\n",
    "plt.show()"
   ]
  }
 ],
 "metadata": {
  "kernelspec": {
   "display_name": "Python 3",
   "language": "python",
   "name": "python3"
  }
 },
 "nbformat": 4,
 "nbformat_minor": 4
}
